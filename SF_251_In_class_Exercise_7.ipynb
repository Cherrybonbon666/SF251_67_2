{
  "nbformat": 4,
  "nbformat_minor": 0,
  "metadata": {
    "colab": {
      "provenance": [],
      "authorship_tag": "ABX9TyO07K5pBO4Eufbs9lWhK0Zx",
      "include_colab_link": true
    },
    "kernelspec": {
      "name": "python3",
      "display_name": "Python 3"
    },
    "language_info": {
      "name": "python"
    }
  },
  "cells": [
    {
      "cell_type": "markdown",
      "metadata": {
        "id": "view-in-github",
        "colab_type": "text"
      },
      "source": [
        "<a href=\"https://colab.research.google.com/github/yongsa-nut/SF251_67_2/blob/main/SF_251_In_class_Exercise_7.ipynb\" target=\"_parent\"><img src=\"https://colab.research.google.com/assets/colab-badge.svg\" alt=\"Open In Colab\"/></a>"
      ]
    },
    {
      "cell_type": "markdown",
      "source": [
        "# In-Class Exercise 7\n",
        "\n",
        "Once done, upload to MS Teams"
      ],
      "metadata": {
        "id": "_7SYt62Vne-_"
      }
    },
    {
      "cell_type": "markdown",
      "source": [
        "## Linear Regression with Gradient Descent"
      ],
      "metadata": {
        "id": "aivRCJjbnlgU"
      }
    },
    {
      "cell_type": "code",
      "execution_count": null,
      "metadata": {
        "id": "DCBCamXEk4Iv"
      },
      "outputs": [],
      "source": [
        "# 1) Generate simulated data (true_w, true_b, n)\n",
        "## data consists of X and y\n",
        "## X will be from normal distribution (random.gauss) with mean = 0, sigma = 1\n",
        "## y = true_w*x + true_b + random noise\n",
        "## return X and y\n",
        "def gen_data(true_w, true_b, n):\n",
        "  pass\n",
        "\n"
      ]
    },
    {
      "cell_type": "code",
      "source": [
        "# 2) Linear function (w,b, x)\n",
        "def linear_model(w, b, x):\n",
        "  pass\n",
        "\n",
        "\n",
        "# 3) Loss function (w, b, X, y)\n",
        "# calculate the loss\n",
        "# (y_hat - y)**2\n",
        "def loss(w, b, X, y):\n",
        "  pass\n",
        "\n",
        "\n",
        "# 4) dJ (w,b, X, y)\n",
        "# calcualte the gradient of w and b\n",
        "def dJ(w, b, X, y):\n",
        "  pass\n",
        "\n"
      ],
      "metadata": {
        "id": "pdfMrkDupe7v"
      },
      "execution_count": null,
      "outputs": []
    },
    {
      "cell_type": "code",
      "source": [
        "# 5) Gradient Descent  (X, y, alpha, T)\n",
        "def gradient_descent(X, y, alpha =0.01, T = 100):\n",
        "  pass\n",
        "\n",
        "\n",
        "# gen data and then call gradient descent\n",
        "# You should see that w and b should slowly move toward true_w and true_b\n"
      ],
      "metadata": {
        "id": "67-HI9mYpvfD"
      },
      "execution_count": null,
      "outputs": []
    },
    {
      "cell_type": "markdown",
      "source": [
        "## Pokemon Dataset Part 7"
      ],
      "metadata": {
        "id": "thImKFrGnoz5"
      }
    },
    {
      "cell_type": "markdown",
      "source": [
        "**Task**: Predict the weight of pokemon!\n",
        "\n",
        "- We will predict the weight of pokemon using their height.\n",
        "- x = `height_m` y = `weight_kg`\n",
        "- Since weight is a real number, we will use linear regression."
      ],
      "metadata": {
        "id": "TCYMYTJRoFgJ"
      }
    },
    {
      "cell_type": "code",
      "source": [
        "!wget https://raw.githubusercontent.com/yongsa-nut/SF251_67_2/refs/heads/main/data/pokemon.csv"
      ],
      "metadata": {
        "id": "yv5nz9Dcol6B"
      },
      "execution_count": null,
      "outputs": []
    },
    {
      "cell_type": "code",
      "source": [
        "import pandas as pd\n",
        "from sklearn.linear_model import LinearRegression"
      ],
      "metadata": {
        "id": "ZLjBEZVmooc7"
      },
      "execution_count": 3,
      "outputs": []
    },
    {
      "cell_type": "code",
      "source": [
        "#Load the data\n",
        "pokemon = pd.read_csv(\"pokemon.csv\")\n",
        "pokemon.columns"
      ],
      "metadata": {
        "id": "qjJvO-4kot2z"
      },
      "execution_count": null,
      "outputs": []
    },
    {
      "cell_type": "markdown",
      "source": [
        "Fit a linear regression to predict pokemon's weight using their height\n",
        "- X is a DataFrame of\t(n_samples, n_features), hence the double brackets"
      ],
      "metadata": {
        "id": "7nR9Z5PtqfHQ"
      }
    },
    {
      "cell_type": "code",
      "source": [
        "\n"
      ],
      "metadata": {
        "id": "8G2BcNIeqewV"
      },
      "execution_count": null,
      "outputs": []
    },
    {
      "cell_type": "markdown",
      "source": [
        "Test your model below\n",
        "- First, call `.predict()` to predict weight using height\n",
        "- Calculate MSE: $\\frac{1}{n}\\sum(ŷ - y)^2$"
      ],
      "metadata": {
        "id": "-WEDaAIxrBZS"
      }
    },
    {
      "cell_type": "code",
      "source": [
        "y_hat = ...\n",
        "mse = ...\n",
        "mse"
      ],
      "metadata": {
        "id": "8Tf15PLErDW6"
      },
      "execution_count": null,
      "outputs": []
    }
  ]
}