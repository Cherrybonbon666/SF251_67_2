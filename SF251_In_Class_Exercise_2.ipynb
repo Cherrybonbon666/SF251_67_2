{
  "nbformat": 4,
  "nbformat_minor": 0,
  "metadata": {
    "colab": {
      "provenance": [],
      "authorship_tag": "ABX9TyO+204ny6NgzJxiJV5mt12Z",
      "include_colab_link": true
    },
    "kernelspec": {
      "name": "python3",
      "display_name": "Python 3"
    },
    "language_info": {
      "name": "python"
    }
  },
  "cells": [
    {
      "cell_type": "markdown",
      "metadata": {
        "id": "view-in-github",
        "colab_type": "text"
      },
      "source": [
        "<a href=\"https://colab.research.google.com/github/yongsa-nut/SF251_67_2/blob/main/SF251_In_Class_Exercise_2.ipynb\" target=\"_parent\"><img src=\"https://colab.research.google.com/assets/colab-badge.svg\" alt=\"Open In Colab\"/></a>"
      ]
    },
    {
      "cell_type": "markdown",
      "source": [
        "# In-Class Exercise 2\n",
        "\n",
        "Once done, upload to MS Teams"
      ],
      "metadata": {
        "id": "uPMwYUZND9_4"
      }
    },
    {
      "cell_type": "markdown",
      "source": [
        "## Pokemon Dataset Part 2\n",
        "\n",
        "Data from https://www.kaggle.com/datasets/cristobalmitchell/pokedex\n",
        "\n",
        "This time we will plot some graphs"
      ],
      "metadata": {
        "id": "6Z9NLZvyD_si"
      }
    },
    {
      "cell_type": "code",
      "source": [
        "!wget https://raw.githubusercontent.com/yongsa-nut/SF251_67_2/refs/heads/main/data/pokemon.csv"
      ],
      "metadata": {
        "id": "IUsQet4YEEpM"
      },
      "execution_count": null,
      "outputs": []
    },
    {
      "cell_type": "code",
      "execution_count": null,
      "metadata": {
        "id": "3p_uOX3VDxZ0"
      },
      "outputs": [],
      "source": [
        "import pandas as pd\n",
        "from plotnine import *"
      ]
    },
    {
      "cell_type": "code",
      "source": [
        "#Load the data\n",
        "pokemon = pd.read_csv(\"pokemon.csv\")\n",
        "pokemon.head()"
      ],
      "metadata": {
        "id": "P0bPdt4JEL0x"
      },
      "execution_count": null,
      "outputs": []
    },
    {
      "cell_type": "markdown",
      "source": [
        "**Q1**: Plot the distribution of `attack` using histogram"
      ],
      "metadata": {
        "id": "HaIp61qiEKbP"
      }
    },
    {
      "cell_type": "code",
      "source": [],
      "metadata": {
        "id": "DeRbiuOqEKEb"
      },
      "execution_count": null,
      "outputs": []
    },
    {
      "cell_type": "markdown",
      "source": [
        "**Q2**: Plot a graph of `primary_type` using barplot. You can use `theme(figure_size=(x,y))` to make your graph bigger."
      ],
      "metadata": {
        "id": "pdSuiFp_FHkT"
      }
    },
    {
      "cell_type": "code",
      "source": [],
      "metadata": {
        "id": "nLC6BkJFFLtT"
      },
      "execution_count": null,
      "outputs": []
    },
    {
      "cell_type": "markdown",
      "source": [
        "**Q3**: Plot a graph of `secondary_type` using barplot. What did you see?"
      ],
      "metadata": {
        "id": "ffGY6xIuFWG9"
      }
    },
    {
      "cell_type": "code",
      "source": [],
      "metadata": {
        "id": "xyKVW_t_FYX1"
      },
      "execution_count": null,
      "outputs": []
    },
    {
      "cell_type": "markdown",
      "source": [
        "**Q4**: Plot a graph for `secondary_type` again but this time only do not include `nan` in the plot. (Subset your data to exclude `nan` first using `notna()` or `isna()` with `~` e.g., `pokemon[pokemon[...].notna()]`)"
      ],
      "metadata": {
        "id": "_d4vcdUZFYlR"
      }
    },
    {
      "cell_type": "code",
      "source": [
        "pokemon_filtered = pokemon[~ pokemon['secondary_type'].isna()] # pokemon[pokemon['secondary_type].notna()]\n"
      ],
      "metadata": {
        "id": "J3ocrLTXFZt8"
      },
      "execution_count": null,
      "outputs": []
    },
    {
      "cell_type": "markdown",
      "source": [
        "**Q5**: Plot a scatterplot between `attack` and `defense`"
      ],
      "metadata": {
        "id": "DxTtcrQTFaHf"
      }
    },
    {
      "cell_type": "code",
      "source": [],
      "metadata": {
        "id": "DzuXof5YFbJq"
      },
      "execution_count": null,
      "outputs": []
    },
    {
      "cell_type": "markdown",
      "source": [
        "**Q6**: Plot a scatterplot between `attack` and `defense` colored by `gen`"
      ],
      "metadata": {
        "id": "f6Q8gOadLH1S"
      }
    },
    {
      "cell_type": "code",
      "source": [],
      "metadata": {
        "id": "acddEriuLNun"
      },
      "execution_count": null,
      "outputs": []
    },
    {
      "cell_type": "markdown",
      "source": [
        "**Q7**: Plot a boxplot of `speed`"
      ],
      "metadata": {
        "id": "8hp27eWELsfE"
      }
    },
    {
      "cell_type": "code",
      "source": [],
      "metadata": {
        "id": "9rCkHc2zLi9q"
      },
      "execution_count": null,
      "outputs": []
    },
    {
      "cell_type": "markdown",
      "source": [
        "**Q8**: Add a violen plot to the previous plot."
      ],
      "metadata": {
        "id": "Wh2v_URZMiQN"
      }
    },
    {
      "cell_type": "code",
      "source": [],
      "metadata": {
        "id": "ajV6NhMOMnXr"
      },
      "execution_count": null,
      "outputs": []
    },
    {
      "cell_type": "markdown",
      "source": [
        "**Q9**: Plot a boxplot of `speed` and `primary_type`. `primary_type` should be x axis."
      ],
      "metadata": {
        "id": "7mo_-ApvLwYk"
      }
    },
    {
      "cell_type": "code",
      "source": [],
      "metadata": {
        "id": "HubMOer0L4-W"
      },
      "execution_count": null,
      "outputs": []
    },
    {
      "cell_type": "markdown",
      "source": [
        "**Q10**: From the previous plot, which type has the highest median speed?"
      ],
      "metadata": {
        "id": "o7K2J7XgMT1Z"
      }
    },
    {
      "cell_type": "code",
      "source": [],
      "metadata": {
        "id": "hgcZr3cRMWe5"
      },
      "execution_count": null,
      "outputs": []
    }
  ]
}