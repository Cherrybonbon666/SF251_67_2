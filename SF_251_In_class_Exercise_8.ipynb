{
  "nbformat": 4,
  "nbformat_minor": 0,
  "metadata": {
    "colab": {
      "provenance": [],
      "authorship_tag": "ABX9TyOiw4q8iDoc/93gRsD4a4UC",
      "include_colab_link": true
    },
    "kernelspec": {
      "name": "python3",
      "display_name": "Python 3"
    },
    "language_info": {
      "name": "python"
    }
  },
  "cells": [
    {
      "cell_type": "markdown",
      "metadata": {
        "id": "view-in-github",
        "colab_type": "text"
      },
      "source": [
        "<a href=\"https://colab.research.google.com/github/yongsa-nut/SF251_67_2/blob/main/SF_251_In_class_Exercise_8.ipynb\" target=\"_parent\"><img src=\"https://colab.research.google.com/assets/colab-badge.svg\" alt=\"Open In Colab\"/></a>"
      ]
    },
    {
      "cell_type": "markdown",
      "source": [
        "# In-Class Exercise 8\n",
        "\n",
        "Once done, upload to MS Teams"
      ],
      "metadata": {
        "id": "69DoMTpwtZyb"
      }
    },
    {
      "cell_type": "markdown",
      "source": [
        "## Pokemon Dataset Part 8\n",
        "\n",
        "In this exercise, we will now conduct actual machine learning."
      ],
      "metadata": {
        "id": "Lf7na1vKtciW"
      }
    },
    {
      "cell_type": "code",
      "source": [
        "!wget https://raw.githubusercontent.com/yongsa-nut/SF251_67_2/refs/heads/main/data/pokemon.csv"
      ],
      "metadata": {
        "id": "jUzOMlJ5vPw_"
      },
      "execution_count": null,
      "outputs": []
    },
    {
      "cell_type": "code",
      "source": [
        "import pandas as pd\n",
        "import sklearn.linear_model as lm\n",
        "from sklearn.metrics import mean_squared_error\n",
        "from sklearn.model_selection import train_test_split, cross_val_score"
      ],
      "metadata": {
        "id": "VExNOsh4vQ9s"
      },
      "execution_count": 2,
      "outputs": []
    },
    {
      "cell_type": "code",
      "source": [
        "#Load the data\n",
        "pokemon = pd.read_csv(\"pokemon.csv\")\n",
        "pokemon.columns"
      ],
      "metadata": {
        "id": "VZx5NJRLvR9y"
      },
      "execution_count": null,
      "outputs": []
    },
    {
      "cell_type": "markdown",
      "source": [
        "**Task**: Predict weight `weight_kg`\n",
        "\n",
        "**Step**:\n",
        "\n",
        "1. Split the dataset into 80% training and 20% testing using `train_test_split`\n",
        "  - set `random_state=100`\n",
        "2. We will consider three feature sets:\n",
        "  - `height_m`\n",
        "  - `height_m`, `hp`, `speed`\n",
        "  - `height_m`, `hp`, `speed`, `is_legendary`, `is_sublegendary`\n",
        "3. We will consider three models:\n",
        "  - linear regression\n",
        "  - linear regression with l1 `Lasso(alpha=1)`\n",
        "  - linear regression with l2 `Ridge(alpha=1)`\n",
        "4. We will perform cross-validation to find the best combination of features and model using `cross_val_score`.\n",
        "  - `cross_val_score` will perform cross validation and return a score.\n",
        "  - There are five key arguments: `estimator` = your model, `X`, `y`, `cv` = how many folds, and 'scoring' = the score that you will use.\n",
        "  -  For scoring we will use  negative mean squared error as our error measurement `scoring='neg_mean_squared_error'`\n",
        "  - 'neg_mean_squared_error' is the just -1 * mean squared error.  `sklearn` only provides this metric because their convention is that higher value is better.\n",
        "  - Read more about `cross_val_score` [here](https://scikit-learn.org/stable/modules/generated/sklearn.model_selection.cross_val_score.html)"
      ],
      "metadata": {
        "id": "aaMKxJMGtdeT"
      }
    },
    {
      "cell_type": "code",
      "execution_count": null,
      "metadata": {
        "id": "jLYeMA0ptJHL"
      },
      "outputs": [],
      "source": [
        "# 1) Split the dataset\n",
        "X = ...\n",
        "Y = ...\n",
        "\n",
        "X_train, X_test, y_train, y_test =  ...\n",
        "\n",
        "print(X_train.shape)\n",
        "print(X_test.shape)"
      ]
    },
    {
      "cell_type": "code",
      "source": [
        "# 2) Create three datasets\n",
        "X_train_height = ...\n",
        "\n",
        "X_train_height_stats = ...\n",
        "\n",
        "X_train_height_stats_legend = ...\n",
        "\n",
        "X_trains = {\n",
        "  \"height\" : X_train_height,\n",
        "  \"height+stats\" : X_train_height_stats,\n",
        "  \"height+stats+legend\" : X_train_height_stats_legend\n",
        "}"
      ],
      "metadata": {
        "id": "QLd1NZBVwkxR"
      },
      "execution_count": 21,
      "outputs": []
    },
    {
      "cell_type": "code",
      "source": [
        "models = {\n",
        "    'Linear Regression': lm.LinearRegression(),\n",
        "    'Ridge Regression': ...,  #here\n",
        "    'Lasso Regression': ...   #here\n",
        "}\n",
        "\n",
        "# Code to do CV\n",
        "# Try to make sure you understand it\n",
        "\n",
        "cv_results = []\n",
        "\n",
        "for model_name, model in models.items():\n",
        "  for X_name, X_temp in X_trains.items():\n",
        "    cv_scores = cross_val_score(estimator = ...,\n",
        "                                X = ...,\n",
        "                                y = ...,\n",
        "                                cv = ...,   #Fill in your answer here\n",
        "                                scoring='neg_mean_squared_error')\n",
        "    mean_cv_mse = -cv_scores.mean()  # We multiply by -1* because we want MSE and not negative MSE.\n",
        "    cv_results.append({\n",
        "         'Feature Set': X_name,\n",
        "         'Model': model_name,\n",
        "         'Mean CV MSE': mean_cv_mse,\n",
        "    })\n",
        "\n",
        "cv_results_df = pd.DataFrame(cv_results)\n",
        "print(cv_results_df)"
      ],
      "metadata": {
        "id": "UzkywNwPxWO4"
      },
      "execution_count": null,
      "outputs": []
    },
    {
      "cell_type": "markdown",
      "source": [
        "**Q** Which feature set and model combination is the best?"
      ],
      "metadata": {
        "id": "Hr-o2PNJyyle"
      }
    },
    {
      "cell_type": "markdown",
      "source": [
        "Answer:"
      ],
      "metadata": {
        "id": "tVA4AC0iy73C"
      }
    }
  ]
}