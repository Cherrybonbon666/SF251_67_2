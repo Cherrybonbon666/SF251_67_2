{
  "nbformat": 4,
  "nbformat_minor": 0,
  "metadata": {
    "colab": {
      "provenance": [],
      "authorship_tag": "ABX9TyOIfYj90W9EFglAo5yZPa8A",
      "include_colab_link": true
    },
    "kernelspec": {
      "name": "python3",
      "display_name": "Python 3"
    },
    "language_info": {
      "name": "python"
    }
  },
  "cells": [
    {
      "cell_type": "markdown",
      "metadata": {
        "id": "view-in-github",
        "colab_type": "text"
      },
      "source": [
        "<a href=\"https://colab.research.google.com/github/yongsa-nut/SF251_67_2/blob/main/SF_251_In_class_Exercise_10.ipynb\" target=\"_parent\"><img src=\"https://colab.research.google.com/assets/colab-badge.svg\" alt=\"Open In Colab\"/></a>"
      ]
    },
    {
      "cell_type": "markdown",
      "source": [
        "# In-Class Exercise 10\n",
        "\n",
        "Once done, upload to MS Teams"
      ],
      "metadata": {
        "id": "_22m7SMzERs5"
      }
    },
    {
      "cell_type": "markdown",
      "source": [
        "## **Q1**: Regression to the mean with simulated data"
      ],
      "metadata": {
        "id": "ejuFCfnfEXt5"
      }
    },
    {
      "cell_type": "code",
      "source": [
        "import pandas as pd\n",
        "import statsmodels.api as sm\n",
        "import numpy as np\n",
        "from plotnine import *"
      ],
      "metadata": {
        "id": "O2th4WDFEqmg"
      },
      "execution_count": 2,
      "outputs": []
    },
    {
      "cell_type": "markdown",
      "source": [
        "### The Modeling Setup\n",
        "1. Each student is assumed to have a true ability drawn from a distribution with mean 50 and standard deviation 10.\n",
        "2. Each student's score on the midterm exam is the sum of two components:\n",
        "  - the student's true ability\n",
        "  - a random component with mean 0 and standard deviation 10\n",
        "3. Likewise, each student's score on the final exam is his or her true ability, plus another, independent, random component."
      ],
      "metadata": {
        "id": "ARFIOzSaFzwE"
      }
    },
    {
      "cell_type": "code",
      "execution_count": null,
      "metadata": {
        "id": "2eX-f8tEDwE5"
      },
      "outputs": [],
      "source": [
        "n = 1000\n",
        "# Simulate true ability\n",
        "## loc = mean, scale =sd, size = number of sample\n",
        "true_ability = np.random.normal(loc= ..., scale = ..., size= ...)\n",
        "\n",
        "# Two noises for two exams\n",
        "noise_1 = ...\n",
        "noise_2 = ...\n",
        "\n",
        "# Modeling midterm and final outcome\n",
        "midterm = ...\n",
        "final = ...\n",
        "exams = pd.DataFrame({'midterm': midterm, 'final': final})\n",
        "exams.head()"
      ]
    },
    {
      "cell_type": "markdown",
      "source": [
        "Plot the scatter plot between `midterm` and `final`"
      ],
      "metadata": {
        "id": "-veqIX1aGFuh"
      }
    },
    {
      "cell_type": "code",
      "source": [],
      "metadata": {
        "id": "gCfomeoDGG8N"
      },
      "execution_count": null,
      "outputs": []
    },
    {
      "cell_type": "markdown",
      "source": [
        "Next, fit the linear regression model"
      ],
      "metadata": {
        "id": "v_AzcG7LGNO0"
      }
    },
    {
      "cell_type": "code",
      "source": [
        "model = sm.OLS(..., sm.add_constant(exams['midterm'])).fit()\n",
        "print(model.summary())"
      ],
      "metadata": {
        "id": "PM8lproEGPWN"
      },
      "execution_count": null,
      "outputs": []
    },
    {
      "cell_type": "markdown",
      "source": [
        "Let's visual the data with the fitted line"
      ],
      "metadata": {
        "id": "pnwZigqHGj-g"
      }
    },
    {
      "cell_type": "code",
      "source": [
        "(ggplot(exams, aes(x='midterm',y='final')) +\n",
        " geom_point() +                                   # scatter plot\n",
        " geom_abline(intercept=model.params['const'], slope=model.params['midterm'], color='blue', size = 1.5) +      # regression line\n",
        " ggtitle(\"Data and fitted regression line\"))"
      ],
      "metadata": {
        "id": "1bfBk9kHGqIo"
      },
      "execution_count": null,
      "outputs": []
    },
    {
      "cell_type": "markdown",
      "source": [
        "Back to the slide"
      ],
      "metadata": {
        "id": "UPTMMKnWLBPQ"
      }
    },
    {
      "cell_type": "markdown",
      "source": [
        "## Pokemon Dataset Part 10\n",
        "\n",
        "Let's try to interpret the model"
      ],
      "metadata": {
        "id": "uGvto0JVEaWB"
      }
    },
    {
      "cell_type": "code",
      "source": [
        "!wget https://raw.githubusercontent.com/yongsa-nut/SF251_67_2/refs/heads/main/data/pokemon.csv"
      ],
      "metadata": {
        "id": "fA6WsL9tEhO7"
      },
      "execution_count": null,
      "outputs": []
    },
    {
      "cell_type": "code",
      "source": [
        "#Load the data\n",
        "pokemon = pd.read_csv(\"pokemon.csv\")\n",
        "pokemon.columns"
      ],
      "metadata": {
        "id": "3YTC6lYTEkjj"
      },
      "execution_count": null,
      "outputs": []
    },
    {
      "cell_type": "markdown",
      "source": [
        "**Q1**: Relationship between pokemon's hp (`hp`) and their weight (`weight_kg`)\n",
        "- Fit a linear regression using `sm.OLS` where y is hp and x is weight.\n",
        "- Print out the model summary"
      ],
      "metadata": {
        "id": "J_kZB2LVIW1o"
      }
    },
    {
      "cell_type": "code",
      "source": [
        "model = ...\n",
        "print(model.summary())"
      ],
      "metadata": {
        "id": "eQZo0jBAImYQ"
      },
      "execution_count": null,
      "outputs": []
    },
    {
      "cell_type": "markdown",
      "source": [
        "**Q2**: Write down the interpretation of the result below"
      ],
      "metadata": {
        "id": "A4iPGD-lJlyD"
      }
    },
    {
      "cell_type": "markdown",
      "source": [
        "Answer:"
      ],
      "metadata": {
        "id": "WiZMQ6IbJEjM"
      }
    },
    {
      "cell_type": "markdown",
      "source": [
        "**Q3**: Relationship between pokemon's hp and their weight and height"
      ],
      "metadata": {
        "id": "zZoToCtcIhbd"
      }
    },
    {
      "cell_type": "code",
      "source": [
        "model = ...\n",
        "print(model.summary())"
      ],
      "metadata": {
        "colab": {
          "base_uri": "https://localhost:8080/"
        },
        "id": "l_2_LTb1ImqL",
        "outputId": "d7e98de6-e97a-4940-b2a0-a76daffe913f"
      },
      "execution_count": 13,
      "outputs": [
        {
          "output_type": "stream",
          "name": "stdout",
          "text": [
            "                            OLS Regression Results                            \n",
            "==============================================================================\n",
            "Dep. Variable:                     hp   R-squared:                       0.242\n",
            "Model:                            OLS   Adj. R-squared:                  0.240\n",
            "Method:                 Least Squares   F-statistic:                     142.6\n",
            "Date:                Sat, 04 Jan 2025   Prob (F-statistic):           1.79e-54\n",
            "Time:                        07:12:14   Log-Likelihood:                -4082.7\n",
            "No. Observations:                 898   AIC:                             8171.\n",
            "Df Residuals:                     895   BIC:                             8186.\n",
            "Df Model:                           2                                         \n",
            "Covariance Type:            nonrobust                                         \n",
            "==============================================================================\n",
            "                 coef    std err          t      P>|t|      [0.025      0.975]\n",
            "------------------------------------------------------------------------------\n",
            "const         58.1121      1.061     54.766      0.000      56.030      60.195\n",
            "weight_kg      0.0537      0.008      6.442      0.000       0.037       0.070\n",
            "height_m       6.3092      0.807      7.818      0.000       4.725       7.893\n",
            "==============================================================================\n",
            "Omnibus:                      408.633   Durbin-Watson:                   1.797\n",
            "Prob(Omnibus):                  0.000   Jarque-Bera (JB):             5538.455\n",
            "Skew:                           1.705   Prob(JB):                         0.00\n",
            "Kurtosis:                      14.678   Cond. No.                         213.\n",
            "==============================================================================\n",
            "\n",
            "Notes:\n",
            "[1] Standard Errors assume that the covariance matrix of the errors is correctly specified.\n"
          ]
        }
      ]
    },
    {
      "cell_type": "markdown",
      "source": [
        "**Q4**: Write down the interpreation of the result below"
      ],
      "metadata": {
        "id": "1kOYFA1IJnKC"
      }
    },
    {
      "cell_type": "markdown",
      "source": [
        "Answer:"
      ],
      "metadata": {
        "id": "HdZ_oXTOJGAC"
      }
    }
  ]
}