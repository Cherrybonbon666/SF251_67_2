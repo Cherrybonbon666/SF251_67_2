{
  "nbformat": 4,
  "nbformat_minor": 0,
  "metadata": {
    "colab": {
      "provenance": [],
      "authorship_tag": "ABX9TyN67At4yic01vsWRSNJprky",
      "include_colab_link": true
    },
    "kernelspec": {
      "name": "python3",
      "display_name": "Python 3"
    },
    "language_info": {
      "name": "python"
    }
  },
  "cells": [
    {
      "cell_type": "markdown",
      "metadata": {
        "id": "view-in-github",
        "colab_type": "text"
      },
      "source": [
        "<a href=\"https://colab.research.google.com/github/yongsa-nut/SF251_67_2/blob/main/SF251_In_Class_Exercise_1.ipynb\" target=\"_parent\"><img src=\"https://colab.research.google.com/assets/colab-badge.svg\" alt=\"Open In Colab\"/></a>"
      ]
    },
    {
      "cell_type": "markdown",
      "source": [
        "# In-Class Exercise 1\n",
        "\n",
        "Once done, upload to MS Teams"
      ],
      "metadata": {
        "id": "RsZErAVZMlXI"
      }
    },
    {
      "cell_type": "markdown",
      "source": [
        "## Pokemon Dataset Part 1\n",
        "\n",
        "Data from https://www.kaggle.com/datasets/cristobalmitchell/pokedex\n",
        "\n",
        "- First, let's explore the data!\n",
        "- Click the link above and read through everything.\n",
        "- The data is also on the class's github."
      ],
      "metadata": {
        "id": "wZYnNkSBMn1_"
      }
    },
    {
      "cell_type": "code",
      "execution_count": null,
      "metadata": {
        "id": "lBmKsNBqLuQM"
      },
      "outputs": [],
      "source": [
        "!wget https://raw.githubusercontent.com/yongsa-nut/SF251_67_2/refs/heads/main/data/pokemon.csv"
      ]
    },
    {
      "cell_type": "code",
      "source": [
        "import pandas as pd"
      ],
      "metadata": {
        "id": "hggH7TVRNzOc"
      },
      "execution_count": 3,
      "outputs": []
    },
    {
      "cell_type": "markdown",
      "source": [
        "**Q1**: Load the data"
      ],
      "metadata": {
        "id": "XjDHQT_tNv3y"
      }
    },
    {
      "cell_type": "code",
      "source": [],
      "metadata": {
        "id": "iJBy-SNKN5Nj"
      },
      "execution_count": 10,
      "outputs": []
    },
    {
      "cell_type": "markdown",
      "source": [
        "**Q2**: Check the data using `head()`"
      ],
      "metadata": {
        "id": "easspKaDN1iF"
      }
    },
    {
      "cell_type": "code",
      "source": [],
      "metadata": {
        "id": "6bai34SVN4-H"
      },
      "execution_count": null,
      "outputs": []
    },
    {
      "cell_type": "markdown",
      "source": [
        "**Q3**: How many Pokemon are there in the dataset?"
      ],
      "metadata": {
        "id": "hfxUM0u_ULer"
      }
    },
    {
      "cell_type": "code",
      "source": [],
      "metadata": {
        "id": "rBhuyo8-UO5m"
      },
      "execution_count": null,
      "outputs": []
    },
    {
      "cell_type": "markdown",
      "source": [
        "**Q4**: List all column names in the dataset"
      ],
      "metadata": {
        "id": "VJ8wOUTwUU2C"
      }
    },
    {
      "cell_type": "code",
      "source": [],
      "metadata": {
        "id": "5vv_8LHDUX66"
      },
      "execution_count": null,
      "outputs": []
    },
    {
      "cell_type": "markdown",
      "source": [
        "**Q5**: Rename the `national_number` column to `id_number`. Then print the column name."
      ],
      "metadata": {
        "id": "_DdFdJCuYgMs"
      }
    },
    {
      "cell_type": "code",
      "source": [],
      "metadata": {
        "id": "HaTa-QapYf_f"
      },
      "execution_count": null,
      "outputs": []
    },
    {
      "cell_type": "markdown",
      "source": [
        "**Q6**: Print out all rows of the column `english_name` using `loc`, `iloc` and `[]`"
      ],
      "metadata": {
        "id": "ZX956TeeVOho"
      }
    },
    {
      "cell_type": "code",
      "source": [],
      "metadata": {
        "id": "T6M0dYV0VWQh"
      },
      "execution_count": null,
      "outputs": []
    },
    {
      "cell_type": "code",
      "source": [],
      "metadata": {
        "id": "HZkUNhCFVjxv"
      },
      "execution_count": null,
      "outputs": []
    },
    {
      "cell_type": "code",
      "source": [],
      "metadata": {
        "id": "hyGvgzHiVj-N"
      },
      "execution_count": null,
      "outputs": []
    },
    {
      "cell_type": "markdown",
      "source": [
        "**Q7**: List all unique Pokemon types in `primary_type`"
      ],
      "metadata": {
        "id": "lHG7blE7Upwz"
      }
    },
    {
      "cell_type": "code",
      "source": [],
      "metadata": {
        "id": "fiQt8eppUurG"
      },
      "execution_count": null,
      "outputs": []
    },
    {
      "cell_type": "markdown",
      "source": [
        "**Q8**: How many Pokemon are there of each primary type?"
      ],
      "metadata": {
        "id": "jmLCY0HlUxcw"
      }
    },
    {
      "cell_type": "code",
      "source": [],
      "metadata": {
        "id": "9orkjaSjUxIl"
      },
      "execution_count": null,
      "outputs": []
    },
    {
      "cell_type": "markdown",
      "source": [
        "**Q9**: Print the english name of all Legendary Pokemon that have attack greater than 100\n",
        "- Extra: print both english name and attack."
      ],
      "metadata": {
        "id": "Us3sk7wBU_-V"
      }
    },
    {
      "cell_type": "code",
      "source": [],
      "metadata": {
        "id": "L04mfPV8VBDE"
      },
      "execution_count": null,
      "outputs": []
    },
    {
      "cell_type": "markdown",
      "source": [
        "**Q10**: What is the average Attack and Defense for each Pokemon primary type?\n",
        "- Hint: Use `group_by`"
      ],
      "metadata": {
        "id": "YSBowDkZVBn-"
      }
    },
    {
      "cell_type": "code",
      "source": [],
      "metadata": {
        "id": "VzRwc_BfVCpl"
      },
      "execution_count": null,
      "outputs": []
    }
  ]
}